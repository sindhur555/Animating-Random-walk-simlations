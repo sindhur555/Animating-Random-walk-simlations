{
 "cells": [
  {
   "cell_type": "markdown",
   "id": "6dbe982a",
   "metadata": {},
   "source": [
    "In this notebook I will try simlating random walks using Euler-Maruyama scheme.\n",
    "\n",
    "Assume a stochastic process which evolves according to the SDE, $dX_t = \\mu X_tdt + \\sigma X_tdW_t$, where $W_t$ is a Brownian motion.\n",
    "\n",
    "Under the Euler Maruyama scheme, the evolution of the stochastic process $x_t$ is given by $X_{t+1} = X_t(1 + \\mu \\Delta t + \\sigma \\phi \\sqrt{\\Delta t})$"
   ]
  },
  {
   "cell_type": "code",
   "execution_count": 2,
   "id": "d524e3b8",
   "metadata": {},
   "outputs": [],
   "source": [
    "import numpy as np\n",
    "import math\n",
    "import matplotlib.pyplot as plt\n",
    "from scipy.stats import norm\n",
    "import pandas as pd\n",
    "from random import randint\n",
    "from matplotlib.animation import FuncAnimation\n",
    "import sys\n",
    "import ffmpeg"
   ]
  },
  {
   "cell_type": "code",
   "execution_count": 3,
   "id": "53a6b1d9",
   "metadata": {},
   "outputs": [],
   "source": [
    "# Defining the parameters of the SDE\n",
    "\n",
    "mu = 0.1\n",
    "sigma = 0.2\n",
    "initial_value = 100.0\n",
    "time_steps = 100\n",
    "delta_t = 0.01"
   ]
  },
  {
   "cell_type": "code",
   "execution_count": null,
   "id": "a18c87f4",
   "metadata": {},
   "outputs": [],
   "source": [
    "x = []\n",
    "t = np.arange(1, time_steps+1)\n",
    "fig, ax = plt.subplots()\n",
    "\n",
    "def animate(i):\n",
    "        \n",
    "    if i == 0:\n",
    "        x.append(initial_value)\n",
    "    else:\n",
    "        x.append(x[-1] * (1 + mu * delta_t + sigma * np.sqrt(delta_t) * np.random.randn()))\n",
    "    \n",
    "    \n",
    "    ax.set_xlabel(\"Time\")\n",
    "    ax.set_ylabel(\"X\")\n",
    "    ax.clear()\n",
    "    ax.plot(t[:i+1], x[:i+1])\n",
    "    ax.set_title(\"Evolution of Stochastic process using Euler Maruyama scheme\")\n",
    "\n",
    "\n",
    "# run the animation\n",
    "ani = FuncAnimation(fig, animate, frames=100, interval=250, repeat=False)\n",
    "\n",
    "#plt.show()\n",
    "    \n",
    "from matplotlib import rc\n",
    "\n",
    "# equivalent to rcParams['animation.html'] = 'html5'\n",
    "rc('animation', html='html5')\n",
    "ani"
   ]
  },
  {
   "cell_type": "code",
   "execution_count": null,
   "id": "34eb848f",
   "metadata": {},
   "outputs": [],
   "source": []
  },
  {
   "cell_type": "code",
   "execution_count": null,
   "id": "ac196577",
   "metadata": {},
   "outputs": [],
   "source": []
  }
 ],
 "metadata": {
  "kernelspec": {
   "display_name": "Python 3 (ipykernel)",
   "language": "python",
   "name": "python3"
  },
  "language_info": {
   "codemirror_mode": {
    "name": "ipython",
    "version": 3
   },
   "file_extension": ".py",
   "mimetype": "text/x-python",
   "name": "python",
   "nbconvert_exporter": "python",
   "pygments_lexer": "ipython3",
   "version": "3.11.5"
  }
 },
 "nbformat": 4,
 "nbformat_minor": 5
}
